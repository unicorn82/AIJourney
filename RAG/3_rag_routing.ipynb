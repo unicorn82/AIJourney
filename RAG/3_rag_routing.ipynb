{
 "cells": [
  {
   "cell_type": "markdown",
   "metadata": {},
   "source": [
    "# Routing\n",
    "Routing refers to the intelligent selection of the most suitable retrieval path or reasoning logic based on the user's query content, enabling more efficient answer retrieval.\n",
    "\n",
    "This dynamic selection process is especially important in scenarios with multiple data sources, multiple retrievers, or multiple tasks, as it can significantly improve system performance and accuracy.\n",
    "\n",
    "## Types of Routing in RAG:\n",
    "### Logical Routing\n",
    "### Semantic Routing\n",
    "\n",
    "![Routing](../resources/RAG/3_RAG_Routing.png)"
   ]
  },
  {
   "cell_type": "code",
   "execution_count": 4,
   "metadata": {},
   "outputs": [],
   "source": [
    "CHROMA_PATH = \"chroma_rag3\"\n",
    "\n",
    "%load_ext autoreload\n",
    "%autoreload 2\n",
    "\n",
    "from dbUtils import DBUtils\n",
    "dbUtils = DBUtils()\n",
    "dbUtils.clear_database(CHROMA_PATH+\"_2023\")\n",
    "dbUtils.clear_database(CHROMA_PATH+\"_2024\")"
   ]
  },
  {
   "cell_type": "code",
   "execution_count": null,
   "metadata": {},
   "outputs": [
    {
     "name": "stderr",
     "output_type": "stream",
     "text": [
      "USER_AGENT environment variable not set, consider setting it to identify your requests.\n",
      "/Users/easonyin/Project/github/AIJourney/RAG/dbUtils.py:39: LangChainDeprecationWarning: The class `HuggingFaceEmbeddings` was deprecated in LangChain 0.2.2 and will be removed in 1.0. An updated version of the class exists in the :class:`~langchain-huggingface package and should be used instead. To use it run `pip install -U :class:`~langchain-huggingface` and import as `from :class:`~langchain_huggingface import HuggingFaceEmbeddings``.\n",
      "  embeddings = HuggingFaceEmbeddings(\n",
      "/Users/easonyin/miniconda3/lib/python3.12/site-packages/tqdm/auto.py:21: TqdmWarning: IProgress not found. Please update jupyter and ipywidgets. See https://ipywidgets.readthedocs.io/en/stable/user_install.html\n",
      "  from .autonotebook import tqdm as notebook_tqdm\n"
     ]
    },
    {
     "name": "stdout",
     "output_type": "stream",
     "text": [
      "find chuck ../data/US_Forecast_May_2023.pdf:0\n",
      "find chuck ../data/US_Forecast_May_2023.pdf:1\n",
      "find chuck ../data/US_Forecast_May_2023.pdf:2\n",
      "find chuck ../data/US_Forecast_May_2023.pdf:3\n",
      "find chuck ../data/US_Forecast_May_2023.pdf:4\n",
      "find chuck ../data/US_Forecast_May_2023.pdf:5\n",
      "find chuck ../data/US_Forecast_May_2023.pdf:6\n",
      "find chuck ../data/US_Forecast_May_2023.pdf:7\n",
      "find chuck ../data/US_Forecast_May_2023.pdf:8\n",
      "find chuck ../data/US_Forecast_May_2023.pdf:9\n",
      "find chuck ../data/US_Forecast_May_2023.pdf:10\n",
      "find chuck ../data/US_Forecast_May_2023.pdf:11\n",
      "find chuck ../data/US_Forecast_May_2023.pdf:12\n",
      "find chuck ../data/US_Forecast_May_2023.pdf:13\n",
      "find chuck ../data/US_Forecast_May_2023.pdf:14\n",
      "find chuck ../data/US_Forecast_May_2023.pdf:15\n",
      "find chuck ../data/US_Forecast_May_2023.pdf:16\n",
      "find chuck ../data/US_Forecast_May_2023.pdf:17\n",
      "find chuck ../data/US_Forecast_May_2023.pdf:18\n",
      "find chuck ../data/US_Forecast_May_2023.pdf:18\n",
      "find chuck ../data/US_Forecast_May_2023.pdf:19\n",
      "find chuck ../data/US_Forecast_May_2023.pdf:20\n",
      "find chuck ../data/US_Forecast_May_2023.pdf:21\n",
      "find chuck ../data/US_Forecast_May_2023.pdf:22\n",
      "find chuck ../data/US_Forecast_May_2023.pdf:23\n",
      "find chuck ../data/US_Forecast_May_2023.pdf:24\n",
      "Number of existing documents in DB: 0\n",
      "set()\n",
      "👉 Adding new documents: 26\n",
      "find chuck ../data/US_Forecast_May_2024.pdf:0\n",
      "find chuck ../data/US_Forecast_May_2024.pdf:0\n",
      "find chuck ../data/US_Forecast_May_2024.pdf:0\n",
      "find chuck ../data/US_Forecast_May_2024.pdf:1\n",
      "find chuck ../data/US_Forecast_May_2024.pdf:1\n",
      "find chuck ../data/US_Forecast_May_2024.pdf:2\n",
      "find chuck ../data/US_Forecast_May_2024.pdf:3\n",
      "find chuck ../data/US_Forecast_May_2024.pdf:4\n",
      "find chuck ../data/US_Forecast_May_2024.pdf:5\n",
      "find chuck ../data/US_Forecast_May_2024.pdf:6\n",
      "find chuck ../data/US_Forecast_May_2024.pdf:7\n",
      "find chuck ../data/US_Forecast_May_2024.pdf:8\n",
      "find chuck ../data/US_Forecast_May_2024.pdf:9\n",
      "find chuck ../data/US_Forecast_May_2024.pdf:10\n",
      "find chuck ../data/US_Forecast_May_2024.pdf:11\n",
      "find chuck ../data/US_Forecast_May_2024.pdf:12\n",
      "find chuck ../data/US_Forecast_May_2024.pdf:13\n",
      "find chuck ../data/US_Forecast_May_2024.pdf:14\n",
      "find chuck ../data/US_Forecast_May_2024.pdf:15\n",
      "find chuck ../data/US_Forecast_May_2024.pdf:16\n",
      "find chuck ../data/US_Forecast_May_2024.pdf:17\n",
      "find chuck ../data/US_Forecast_May_2024.pdf:18\n",
      "find chuck ../data/US_Forecast_May_2024.pdf:19\n",
      "find chuck ../data/US_Forecast_May_2024.pdf:20\n",
      "find chuck ../data/US_Forecast_May_2024.pdf:21\n",
      "find chuck ../data/US_Forecast_May_2024.pdf:22\n",
      "find chuck ../data/US_Forecast_May_2024.pdf:23\n",
      "find chuck ../data/US_Forecast_May_2024.pdf:24\n",
      "Number of existing documents in DB: 0\n",
      "set()\n",
      "👉 Adding new documents: 28\n"
     ]
    },
    {
     "data": {
      "text/plain": [
       "[Document(metadata={'source': '../data/US_Forecast_May_2024.pdf', 'page': 0, 'id': '../data/US_Forecast_May_2024.pdf:0:0'}, page_content=\"University of Michigan, Ann Arbor \\nDepartment of Economics \\n611 Tappan Avenue \\nAnn Arbor, MI 48109-1120 \\n \\nlsa.umich.edu/econ/rsqe \\n734-764-2567 \\n \\n \\n \\n \\n \\n \\n \\n \\n \\n \\n \\nFor Release: 05/17/2024 \\n“The Michigan Model” \\nGabriel M. Ehrlich, Director  \\nGeorge A. Fulton & Saul H. Hymans \\nDirectors Emeriti \\n \\n \\nThe U.S. Economic Outlook for 2024–2025 \\n \\nJacob T. Burton, Gabriel M. Ehrlich, Kyle W. Henson, Daniil Manaenkov, and Yinuo Zhang \\nUniversity of Michigan \\nExecutive Summary\\nLong Story Short \\nWe project the U.S. economy to maintain healthy \\nmomentum throughout our forecast window, with a \\nmodest deceleration in the near term. We expect real \\nGDP growth to average about 2.0 percent annualized in \\nthe second half of 2024, while the unemployment rate \\ncontinues inching up to 4.0 percent. Meaningful  \\nprogress towards inflation normalization, coupled with a \\ngradually softening labor market, set the stage for the \\nfirst fed funds rate cut of this cycle in September 2024. \\nLook beyond the Headline \\nThe pace of real GDP growth moderated to an \\nannualized rate of 1.6 percent in 2024Q1. While net \\nexports subtracted nearly 0.9 percentage points from \\ntopline GDP growth, the underlying momentum remains \\nsolid. The combined growth contributions of private \\nconsumption and fixed investment  added 2.6 \\npercentage points to growth in the first quarter, just 0.2 \\npercentage points behind the 2023Q4 reading.  \\nThe recent upward revision in net immigration \\nestimates for 2022–23 by the CBO suggest s that the \\nbrisk economic growth in 2023 was likely supported by \\nan immigration wave fueling both the demand and the \\nsupply sides of the economy. \\nControlled Deceleration in The Labor Market \\nMonthly payroll job gains have moderated to 246,000 \\nso far in 2024, well above 2019's average pace of \\n166,000. The headline unemployment rate inched up to \\n3.9 percent in April after averaging 3.7 percent in \\n2023H2. We project a continued softening of the labor \\nmarket through early 2025.  \\nWe revised up our population growth projections for \\n2024–25 to reflect a higher immigration forecast . This \\nwill boost the size and growth of the population, \\nprimarily in the 25 to 54 age group, resulting in stronger \\nlabor force growth in our forecast. \\nPotholes along the Last Mile \\nComing after the rapid disinflation at the end of 2023, \\nthe recent spike in inflation suggests that the last mile \\nof inflation normalization may take longer than many \\nhad hoped. The recent rebound has been broad-based \\nacross goods and services. The core PCE price index, \\na key metric for forecasting future inflation, was up 2.8 \\npercent year over year in March. The pace of monthly \\ncore PCE inflation previously registered at or below the \\n2.0 percent annual pace in five of the six months from \\nJuly to December 2023, but it spiked to 6.2 percent in \\nJanuary 2024. Annualized core CPI inflation edged\"),\n",
       " Document(metadata={'source': '../data/US_Forecast_May_2024.pdf', 'page': 0, 'id': '../data/US_Forecast_May_2024.pdf:0:1'}, page_content='percent year over year in March. The pace of monthly \\ncore PCE inflation previously registered at or below the \\n2.0 percent annual pace in five of the six months from \\nJuly to December 2023, but it spiked to 6.2 percent in \\nJanuary 2024. Annualized core CPI inflation edged \\ndown to 3.6 percent in April after trending mostly up \\nsince July 2023, but more good data is needed to \\nreassure the Fed before it begins cutting rates. \\nPCE housing services inflation stalled around 5.8 \\npercent year over year in February –March after ten \\nmonths of continuous disinflation. Leading indicators of \\ninflation in the rental market are now t elling diverging \\nstories after displaying encouraging downward \\nprogress until 2023Q3. Although we still expect shelter \\ninflation to slow , the extent of further passthrough of \\nprices for new tenants into average rents  remains \\nunclear. The ongoing crisis of affordability in the market \\nof homes for sale, as well as the significant increase in \\nimmigration, could limit the extent of rental disinflation. \\nA Few Steps Away from Monetary Easing \\nOur forecast is consistent with a Fed that will be content \\nto hold rates steady before beginning to cut slowly. We \\nproject that by the time the Fed begins cutting rates in \\nSeptember, unemployment will have edged up further \\nand the annualized pace of core PCE inflation will have'),\n",
       " Document(metadata={'source': '../data/US_Forecast_May_2024.pdf', 'page': 0, 'id': '../data/US_Forecast_May_2024.pdf:0:2'}, page_content='project that by the time the Fed begins cutting rates in \\nSeptember, unemployment will have edged up further \\nand the annualized pace of core PCE inflation will have \\ndipped below 3.0 percent. Once cuts begin, we expect \\nthe Fed to proceed slowly—with only one cut in 2024 \\nand three in 2025. \\nMixed Signals from the Housing Market \\nThe 30-year fixed mortgage rate has crept up above 7.0 \\npercent again after declining to 6.6 percent at the'),\n",
       " Document(metadata={'source': '../data/US_Forecast_May_2024.pdf', 'page': 1, 'id': '../data/US_Forecast_May_2024.pdf:1:0'}, page_content='2 \\n \\nbeginning of 2024. Despite recent improvements in the \\nnumber of active for -sale listings , elevated mortgage \\nrates are locking many potential sellers into the low-rate \\nmortgages they secured in the past. On the other hand, \\nannualized sales of new single-family homes increased \\nfrom 2023Q4 to 2024Q1, a trend we generally expect to \\ncontinue over our forecast period. We remain cautiously \\noptimistic about the single -family residential \\nconstruction market, which should benefit from the \\nprojected decline in mortgage rates in the second half \\nof 2024. \\nCongress Arrives Fashionably Late  \\nCongress passed a full-year funding package by the \\nend of March , more than five months after fiscal 2024 \\nbegan. We consider a timely resolution to the fiscal \\n2025 budget unlikely as well. Because we judge that a \\ndivided government is the most likely outcome of the \\n2024 elections, our fiscal forecast features the path of \\nleast resistance:  a slowdown in discretionary \\nnondefense spending growth alongside steady \\nincreases in defense spending. \\nThe federal deficit is set to ease slightly  thanks to the \\nrecent jump in personal tax revenues. It is projected to \\nstep down from 5.8 percent of GDP in fiscal 2023 to 5.2 \\npercent in fiscal 2025. The privately held debt -to-GDP \\nratio is poised to increase from 80.9 percent in 2024Q1 \\nto 84.6 percent in 2025Q4, as sizeable deficits continue. \\nThe 2024–2025 Outlook \\nDespite the recent spike, our baseline forecast is that \\ninflation will resume its normalization as shelter costs \\ndecelerate and consumer goods inflation remains \\nmuted. The year -over-year change in the PCE price \\nindex ticks up from 2.6 percent in 2024Q1 to 2.9 percent \\nin 2024Q4, before moderating to 2.1 percent by the \\nsecond half of 2025. Year -over-year core CPI inflation \\nlingers around 3.5 percent through the rest of 2024 and \\nthen slows to 2.5 percent by 2025Q4.  \\nWe anticipate consumers to begin exercising more \\ncaution as the unemployment rate creeps up slightly in \\nthe second half of 2024. As a result, the growth pace of \\nGDP is projected to slow to an average of about 2.0 \\npercent annualized in 2024H2. As inflation decelerates \\nand the effects of the projected policy rate cuts feed \\nthrough the economy, growth then accelerates in 2025, \\nrising to 2.4 percent annualized in 2025Q4.  \\nWe expect the labor market to c ontinue cooling off \\ngradually. The unemployment  rate ticks up  to 4.0 \\npercent by 2024Q4 and hovers at that level throughout \\n2025. Job gains continue to slow through 2025Q1, after \\nwhich they stabilize around 120,000 –130,000 per \\nmonth. \\nWe expect the  pace of single- family housing starts  to \\nclimb by 60,000 units through 2025Q4 after hovering at \\n1,030,000 units in the near term. We project a gradual \\nrecovery of multi -family starts to an annual pace of \\n440,000 units by 2025Q4, despite the recent decline in \\n2024Q1. \\nThe pace of light vehicle sales is expected to start rising \\nagain in 2024H2. The sales pace increases to 15.9'),\n",
       " Document(metadata={'source': '../data/US_Forecast_May_2024.pdf', 'page': 1, 'id': '../data/US_Forecast_May_2024.pdf:1:1'}, page_content='recovery of multi -family starts to an annual pace of \\n440,000 units by 2025Q4, despite the recent decline in \\n2024Q1. \\nThe pace of light vehicle sales is expected to start rising \\nagain in 2024H2. The sales pace increases to 15.9 \\nmillion units by 2024Q4 and reaches 16.2 million by \\nmid-2025 as economic growth re -accelerates and \\ninterest rates decline. As consumers go for cheaper \\nvehicle trims, the contribution of vehicle sales to real \\nGDP will be smaller for the same number of units sold.'),\n",
       " Document(metadata={'source': '../data/US_Forecast_May_2024.pdf', 'page': 2, 'id': '../data/US_Forecast_May_2024.pdf:2:0'}, page_content=\"3 \\n \\nThe Current State of the Economy \\nReal GDP grew at an annualized pace of 1.6 percent in the first quarter of 2024, a deceleration \\nof 1.8 percentage points from the previous \\nquarter. Although that performance fell short \\nof expectations, the main drivers of growth \\nremained strong. Chart 1 shows the growth \\nrate of real GDP and the growth contributions \\nof its major components over the past two \\nyears. Net exports subtracted nearly 0.9 \\npercentage points from topline GDP growth in \\nthe first quarter after contributing one-quarter of a point in the fourth quarter of 2023. The government's \\ngrowth contribution likewise decreased from 0.8 to 0.2 percentage points. Consumption contributed a \\nhealthy 1.7 percentage points to annualized real GDP growth, nonetheless a step down from the 2.2 \\npercentage points in 2023Q4. The combined growth contributions of private consumption and fixed \\ninvestment, which we believe to be more informative about the underlying momentum in the economy, \\nadded 2.6 percentage points to growth in the first quarter, just 0.2 percentage points behind the 2023Q4 \\nreading.   \\nOur economic outlook hinges on the near-term trajectory of inflation. The recent spike suggests \\nthat the last mile of inflation normalization may \\ntake longer than many observers had hoped \\nafter the rapid disinflation at the end of 2023. \\nThe Fed targets Personal Consumption \\nExpenditure (PCE) inflation at an average pace \\nof 2.0 percent per year. In March, year -over-\\nyear PCE inflation poked up to 2.7 percent,\"),\n",
       " Document(metadata={'source': '../data/US_Forecast_May_2024.pdf', 'page': 3, 'id': '../data/US_Forecast_May_2024.pdf:3:0'}, page_content='4 \\n \\nwhile the 3-month annualized rate jumped to \\n4.4 percent, reflecting a re-acceleration early \\nin 2024. This recent rebound has been broad-\\nbased across goods and services, w ith the \\nnotable exception of motor vehicles and parts. \\nSo-called \"supercore\" inflation, which \\nexcludes food, energy , and housing, \\nmeasures trend inflation not driven by shelter. \\nIts recent trend has  also been discouraging. \\nThe 3-month annualized pace of \"s upercore\" inflation fell below 1.8 percent in the second half of 2023, \\nclose to its pre-pandemic range. However, the recent surge to 4.1 percent on an annualized basis has \\nintroduced new pockets of turbulence on the flight path to a soft landing. \\nUntil recently, PCE housing services inflation had been moderating from its previously high level. \\nHowever, it stalled around 5.8 percent year over year in February–March. The PCE housing services \\nprice index includes imputed rental of owner -occupied homes and direct rental costs of all renter \\nhouseholds, whether or not they have moved or signed a new lease. This focus on a broad target \\npopulation helps to explain the slow dynamics \\nof PCE housing services inflation. Measures of \\nrent inflation for new tenants can potentially \\ncapture timelier trends in the rental market and \\nhelp predict the future evolution of the PCE \\nrental component. Chart 4 displays Zillow \\'s \\nobserved rent index and the Bureau of Labor \\nStatistics\\' (BLS) experimental new tenant rent \\nindex. Both measures showed encouraging downward progress until 2023Q3, when the series diverged. \\nAlthough we still expect shelter inflation to decelerate, it remains unclear how much further the rental \\ninflation deceleration will translate to the broader metrics. The ongoing crisis of affordability in the market'),\n",
       " Document(metadata={'source': '../data/US_Forecast_May_2024.pdf', 'page': 4, 'id': '../data/US_Forecast_May_2024.pdf:4:0'}, page_content=\"5 \\n \\nof homes for sale, as well as the significant increase in immigration, will likely limit the extent of rental \\ndisinflation.  \\nThe financial markets entered 2024 pricing in an average of six 25-basis -point (bps) cuts to the \\nfederal funds rate during the year. The painful realization that the Fed's rate cuts would be delayed in the \\nface of resurgent inflation and a string of strong \\njobs reports has put upward pressure on \\nlonger-term rates this year. The yield on 5-year \\nTreasury debt climbed by 60 bps between \\nJanuary and April, before retreating by around \\n10 bps following the FOMC meeting in early \\nMay. The 30-year fixed mortgage rate crept up \\nabove 7.0 percent again, standing at 7.1 \\npercent as of early May. Despite these  shifts, \\nthe 48-month new car loan rate has held steady at 7.8 percent since late December , already one of the \\nhighest levels seen since 2001.  \\nOne potential explanation for the recent economic strength in the face of much tighter monetary \\npolicy is the ongoing immigration wave. The Congressional Budget Office (CBO) recently updated its \\ndemographic estimates and projections for 2022 through 2054. Chart 6 compares 2021–34 annual \\ngrowth rate s of the civilian noninstitutional \\npopulation estimated by CBO earlier this year \\nto the resident population projections released \\nby Census late in 2023. The large upward \\ndivergence in CBO 's estimates is due to a \\nsizable increase in estimated net immigration \\nin 2022–23 and the higher immigration forecast \\nfor 2024– 27, which will boost the size and \\ngrowth of the population , primarily in the 25 to\"),\n",
       " Document(metadata={'source': '../data/US_Forecast_May_2024.pdf', 'page': 5, 'id': '../data/US_Forecast_May_2024.pdf:5:0'}, page_content=\"6 \\n \\n54 age group. Correspondingly, we have also \\nrevised our population growth projections for \\n2024 and beyond, resulting in stronger labor \\nforce growth in the forecast.  \\nThe labor market has shown \\ndiscernible signs of cooling off recently. \\nMonthly payroll job gains moderated to \\n175,000 in April, coming off from their prior 3-\\nmonth average of 270,000. Government job gains dropped below 10,000 for the first time since \\nDecember 2022, having averaged about \\n59,000 over 2023. The 3-month moving \\naverage of unemployment rate rounded up to \\n3.9 percent in April, up from around 3.7 percent \\nin January. The private job opening s rate has \\nbeen declining consistently. Data from \\nIndeed.com, which appears to be a leading \\nindicator of the private job openings rate, \\nsuggests that the decelerating trend of job \\nopenings is likely to continue in the near term . Overall, we believe that a controlled deceleration in the \\nlabor market is in line with the Fed's goals. \\nChart 9 shows the National \\nAssociation of Home Builders ' (NAHB's) \\nHousing Market Index alongside the Mortgage \\nBankers Association' s (MBA's) index of loan \\napplications for purchases.  Mortgage \\napplications remain at a historically low level, \\nwith the exception of the temporar y uptick in\"),\n",
       " Document(metadata={'source': '../data/US_Forecast_May_2024.pdf', 'page': 6, 'id': '../data/US_Forecast_May_2024.pdf:6:0'}, page_content=\"7 \\n \\nloan applications as a result of a brief dip in mortgage rates from late December 2023 to early January. \\nThe NAHB's index, which measures builders' sentiment for single-family sales in the present and for the \\nnext six months along with traffic of prospective buyers, slipped below the 50 threshold in May, likely due \\nto the recent spike in i nterest rates. We expect high mortgage rates to restrain residential single -family \\nconstruction activity in the near term, but we remain cautiously optimistic that activity will ramp up along \\nwith net immigration.   \\nMortgage rates that briefly rose toward the 8.0 percent level led to a deceleration of home price \\nappreciation in the second half of 2023 as the \\npace of new for -sale listings began its \\nrecovery. The small re- acceleration of home \\nprices in early 2024 likely stemmed from rates \\ntemporarily dipping below 7.0 percent around \\nthe turn of the year. The number of active \\nlistings, as reported weekly by the National \\nAssociation of Realtors (NAR), has improved \\nmeasurably relative to 2023, suggesting that some sellers are finally coming back to the market. As a \\nresult, we expect moderate further home price appreciation over the course of our forecast. \\nChart 11 shows the Institute for Supply Management's (ISM 's) Purchasing Manager Indices for \\nmanufacturing and services. The \\nmanufacturing index has started to show signs \\nof recovery this year. It exceeded 50—\\nindicating expanding activity —in March 2024 \\nfor the first time since November 2022, \\nsuggesting that a rebound in manufacturing \\nactivity may be around the corner. However, \\nthe ISM services index came down from 53.4 \\nin January to below 50 in April due to business activity and employment sub-indic es falling sharply. A\"),\n",
       " Document(metadata={'source': '../data/US_Forecast_May_2024.pdf', 'page': 7, 'id': '../data/US_Forecast_May_2024.pdf:7:0'}, page_content='8 \\n \\nfailure of the ISM services index to bounce back strongly in the coming months would be alarming, and \\nwe are watching these data closely. \\nThe light vehicle market remains mired in a funk, likely arising from high interest rates on loans \\nfor vehicle purchases. After a disappointing dip below 15.0 million units in January, the annualized pace \\nof light vehicle sales averaged 15.7 million in \\nFebruary–April. The trend pace of sales \\nappears to be stuck in low gear, hovering \\naround 15.6 million units for 13 months \\nalready. The rate of domestic light vehicle \\nassemblies, on the other hand, has been \\nincreasing in the first three months of 2024. \\nGiven the improved inventory situation for new \\nautos and the return of consumer incentives, \\nwe expect light vehicle sales to tick up later in 2024.   \\nOverall, the state of the economy remains noisy and challenging to interpret. We believe that the \\ncurrent picture is consistent with a slight deceleration in economic growth in the near term, but healthy \\ngrowth throughout our forecast window. \\nNext, we outline several key policy and economic assumptions underlying our forecast. \\nMonetary Policy \\nThe Federal Open Market Committee (FOMC) remains committed to bringing inflation down to its \\n2.0 percent objective. The FOMC has held the federal funds rate steady at 5.25–5.5 percent since July \\n2023. After the May  meeting, FOMC members signaled that the current pause would continue for the \\ntime being. Members made sure to note that \"job gains have remained strong\" and \"there has been a \\nlack of further progress toward the Committee\\'s 2 percent inflation objective.\" In addition, the committee \\nrepeated the comment \"that the risks to achieving its employment and inflation goals have moved toward'),\n",
       " Document(metadata={'source': '../data/US_Forecast_May_2024.pdf', 'page': 8, 'id': '../data/US_Forecast_May_2024.pdf:8:0'}, page_content='9 \\n \\nbetter balance over the past year.\" We interpret this language as signaling that the Fed will not cut rates \\nat its next meeting in June and is not planning to cut quickly once it starts. \\nThe median economic projection for the federal funds rate among March FOMC meeting \\nparticipants indicated no more hikes in this cycle. The median Committee member saw three cuts in 2024 \\nand three or four more in 2025. The Committee maintained its belief that inflation would continue to \\nnormalize, with the participants \\' median projection of year -over-year PCE price index inflation falling to \\n2.4 percent by the end of this year and 2.2  percent by the end of 2025. At the same time, the median \\nprojection saw the unemployment rate rising to 4.0 percent this year and 4.1 percent in 2025. It is worth \\nnoting that since the March meeting, the inflation data has largely surprised to the upside, which led Fed \\nChair Jay Powell to say, \"the recent data have clearly not given us greater confidence and instead indicate \\nthat it\\'s likely to take longer than expected to achieve that confidence.\" \\nCore PCE inflation, a key metric for forecasting future inflation, stood at 2.8  percent year over \\nyear in March . This metric has been slowing consistently since the September 2022 reading of 5.5 \\npercent, but the pace of decreases has slowed in 2024.  The 3-month average (annualized) rate spiked \\nto 4.4 percent in March after reaching 1.6 percent in December 2023. The pace of monthly core PCE \\ninflation previously registered at or below the 2.0 percent annual pace in five of the six months from July \\nto December 2023, but it spiked to 6.2 percent in January. This resurgence of inflation provides support \\nfor the Fed to hold off on cuts for now. Core non-housing services (roughly a 50-percent slice of private \\nconsumption) was one of the final  sectors to \\nexperience disinflation, but as shown on chart \\n13 it was a significant driver of the recent spike.  \\nThe Fed\\'s statutory dual mandate \\nrequires a balanced approach to promoting \\nmaximum employment alongside price \\nstability. The labor market has held up nicely \\nso far in 2024. The average monthly pace of \\n246,000 job gains so far this year is a slight'),\n",
       " Document(metadata={'source': '../data/US_Forecast_May_2024.pdf', 'page': 9, 'id': '../data/US_Forecast_May_2024.pdf:9:0'}, page_content=\"10 \\n \\nstep down from 2023's average of 251,000, although it is much slower than 2022's monthly average of \\n377,000. The resilience in the labor market gives the Fed a longer runway to ensure above-target inflation \\nis extinguished prior to pivoting toward lower rates. \\nThe economic costs of reining in inflation would likely be much larger if high inflation were to \\nbecome engrained in long-term plans and contracts. The 5-year -to-10-year inflation expectations \\nmeasure from the University of Michigan's Surveys of Consumers ticked up to 3.1 percent in May, near \\nthe top of its recent range. However, most measures of inflation expectations have remained reasonably \\nwell-anchored in 2024. \\nThe Fed has been reducing the size of its balance sheet since May 2022. At that time, the Fed \\nannounced a 95 billion dollar per month redemption cap for its securities holdings, and it has been \\nshrinking its balance sheet by around 80 billion dollars per month since then. On May 1st of this year, the \\nFed announced that it would slow the pace of decline by establishing a new redemption cap of 60 billion \\ndollars per month, although the actual amount rolled off will likely be 40–45 billion dollars per month. \\nWe believe that our forecast is consistent with a Fed that will be  content to hold rates steady \\nbefore cutting slowly . We project the Fed to start cutting rates in the second half of 2024, with the \\nSeptember FOMC looking like the most likely date for the first cut as of this writing. By that time, we \\nexpect unemployment to edge up further and the annualized pace of core PCE inflation to dip below 3.0 \\npercent, down from 3.7 percent in 2024Q1. With the fed funds rate still around 5.3 percent, the implied \\nshort-term real interest rate near 2.5 percent will likely appear somewhat restrictive given the softening \\nlabor market and normalizing inflation. We \\nexpect the Fed to cut rates slowly, however, \\nwith only one cut in 2024 and three in 2025. \\nChart 14 shows our projections for \\nselected key interest rates. The 3-month \\nTreasury bill rate declines from 5.2 percent in \\n2024Q2 to 4.9  percent in 2024Q4 and 4.3 \\npercent in 2025Q4. The 10-year Treasury rate\"),\n",
       " Document(metadata={'source': '../data/US_Forecast_May_2024.pdf', 'page': 10, 'id': '../data/US_Forecast_May_2024.pdf:10:0'}, page_content=\"11 \\n \\nrises from 4.2 percent in 2024Q1 to 4.5 percent in 2024Q2, before edging down to 4.4 percent in 2024Q4 \\nand 4.3 percent in 2025Q4.  The yield curve flattens  at long last by the end of 2025. Mortgage rates \\ndecline more quickly than longer-term government bond yields as the excess spread that has developed \\nbetween them shrinks toward more normal levels  in light of the decline in medium -run policy rate \\nuncertainty. The 30-year conventional fixed-rate mortgage rate rises to 7.0 percent in 2024Q 2 before \\ndeclining to 6.6 percent in 2024Q4 and 6.0 percent by 2025Q4. \\nFiscal Policy \\nThe suspense surrounding a potential federal government shutdown has dissipated for a few \\nmonths, as Congress reached an agreement on the full-year funding package for fiscal year 2024 by the \\nend of March. The FY2024 appropriations bills have set the topli ne spending total at 1.6 trillion dollars, \\nwith an increase of 26.8 billion dollars in defense spending (from 798 to 825 billion dollars) and a \\nmoderate decline of 61.0 billion dollars in non-defense spending (from 827 to 766 billion dollars) \\ncompared to FY2023. We expect this cut to non-defense spending authorizations to take a while to filter \\ninto actual outlays. \\nDespite this long-overdue achievement, theatrics persist, as Congress just dodged another \\nmotion to vacate the House speakership following the passage of foreign aid bills in late April. Based on \\nCBO's estimates, we project that this spending, totaling 95.3 billion dollars, will temporarily increase \\ndefense consumption expenditure and investment further until the end of FY2026. This passage \\nconcluded months of heated discussions in Congress, with Republicans seemingly walking out empty -\\nhanded on the border security bills that had been under the spotlight. Although it remains unclear what \\nconcessions House Democrats may have offered in return aside from defending the speakership, we \\njudge that additional meaningful fiscal actions are unlikely to occur at least until after the elections.   \\nThe Tax Relief for American Families and Workers Act, which passed in the House with an \\nunusually large margin of 357–50 in January, has stalled in the Senate. The current bill couples increases \\nin refundable child tax credits with an extension of tax breaks from the Tax Cuts and Jobs Act of 2017 \\n(TCJA), which are set to expire by the end of 2025. Despite bipartisan support for business credits,\"),\n",
       " Document(metadata={'source': '../data/US_Forecast_May_2024.pdf', 'page': 11, 'id': '../data/US_Forecast_May_2024.pdf:11:0'}, page_content='12 \\n \\nRepublican senators have opposed implementing the lookback policy on child tax credits. Moreover, the \\nappetite for bipartisan dealmaking is fading as elections approach. Therefore, we believe the bill\\'s chance \\nof passing the Senate in its present form is quite slim.  \\nThe 118th Congress still needs to develop and pass a new budget for fiscal 2025 within the next \\nfive months. Unfortunately, it is already off to a rocky start. The president\\'s budget for FY2025, released \\nin March and proposed an increase of 11 billion dollars in total discretionary spending, largely in line with \\nthe Fiscal Responsibility Act of 2023. The budget proposal  has already faced a backlash from \\nRepublicans because of high levels of spending in fiscal 2026 and beyond. The concurrent budget \\nresolution proposed by the House Budget Committee, on the other hand, contained several deep cuts to \\ngovernment programs and agencies such as Obamacare and the Internal Revenue Service starting in \\nfiscal 2026. We anticipate more contentious fights going forward, with  a timely resolution seem ingly \\nunlikely.  \\nWe continue to believe that a divided government is the most likely outcome of the 2024 elections, \\nwhich suggests that enacting substantial revenue-raising or expenditure-cutting reforms will require \\ncompromise. Our forecast features the likely path of least resistance: a slowdown in discretionary \\nnondefense spending growth alongside steady growth in defense spending.  \\nTable 1 shows the data and our projections for the federal budget on a National Income and \\nProduct Accounts basis (NIPA) from fiscal \\nyears 2022 to 2025, broken down by receipts \\nand major expenditure categories. Federal tax \\nrevenue jumped by more than 200 billion \\ndollars in 2024Q1, boosted in part by \\n\"declarations and settlements\" revenue, which \\ngrew more than 100 billion dollars. That jump \\nwas likely due to the rebound of capital gains \\nduring 2023, as major stock indices  gained \\nrapidly. As a result, federal receipts are set to grow at a brisk pace of 6.4 percent in fiscal 2024. Receipt'),\n",
       " Document(metadata={'source': '../data/US_Forecast_May_2024.pdf', 'page': 12, 'id': '../data/US_Forecast_May_2024.pdf:12:0'}, page_content='13 \\n \\ngrowth slows down to 5.1 percent in fiscal 2025 as some business tax incentives from the Tax Cuts and \\nJobs Act of 2018 phase out. \\nWe project the growth of federal expenditures to slow down over the next two years, decreasing  \\nfrom 4.9 percent in fiscal 2023 to 4.1 percent in fiscal 2025. Robust defense spending growth fuels the \\nmomentum in overall federal consumption. Transfer payments are expected to expand by 1.0 percent in \\nfiscal 2024, and then by a further  2.4 percent in fiscal 2025 due to an increase in transfer payment to \\npersons. On the other hand, federal subsidies continue shrinking toward their pre-pandemic levels \\nthrough fiscal 2024–25.  \\nInterest payments on the federal debt, however, rose by over one-third in fiscal  2023 due to \\nsharply higher interest rates. In fact, they have exceeded defense consumption expenditures and gross \\ninvestment combined since 2023Q4. We expect this state of affairs, which previously occurred only once \\nin 1998 for a single quarter, to persist throughout our forecast window. The growth of interest payments \\nwill decelerate to 19.7 percent in fiscal 2024 and 11.2 percent in fiscal 2025, but it remains brisk.  \\nWe anticipate the federal deficit to ease slightly as a share of nominal GDP in fiscal  2024 and \\n2025 thanks to the jump in personal tax revenues . The decline will be welcome following its increase \\nfrom 4.4 percent to 5.8 percent as a share of GDP over the past two fiscal years. The privately held debt-\\nto-GDP ratio is poised to increase from  80.9 percent in 2024Q1 to 84.6 percent in 2025Q4, as sizeable  \\ndeficits continue, and the Fed tapers the pace of its sales of Treasury security holdings starting from June \\n2024. \\nThe Housing Market \\nMortgage rates have been back on the rise this year, revers ing some of the affordability gains \\nfrom late last year. The 30-year conventional fixed rate mortgage rate, as reported weekly by Freddie \\nMac, has climbed to 7.1 percent from 6.6 percent at the beginning of the year. We expect mortgage rates \\nto ease in the years ahead, but we project homes to remain significantly less affordable than they were \\nin the era of three-percent mortgages.'),\n",
       " Document(metadata={'source': '../data/US_Forecast_May_2024.pdf', 'page': 13, 'id': '../data/US_Forecast_May_2024.pdf:13:0'}, page_content=\"14 \\n \\nOur preferred measure of house prices, the seasonally adjusted S&P CoreLogic Case-Shiller \\nNational Home Price Index, currently extends only through February, so it is too early to assess the effect \\nthe recent increase in rates will have on prices. M ovements in house p rices tend not to fully offset the \\nimpact of changes in mortgages rates on monthly mortgage payments . We therefore expect the recent \\nincrease in rates to translate to at least some setback in affordability. \\nMore timely indicators of activity in the housing market are sending mixed signals following the \\nincrease in mortgage rates. The Mortgage Bankers Association's index of loan applications for purchases \\nhas come up from its lowest reading in almost 30 years in October 2023, but it remains at a deeply \\ndepressed level. The University of Michigan Survey of Consumers ' sentiment indices of conditions for \\nbuying and selling a home have both mostly improved so far in 2024, although they remain much lower \\nthan before the run-up in mortgage rates. Existing single-family home sales have perked up in 2024 to a \\n3.8 million annual sales pace in March, albeit from a very slow pace at the end of last year. The seasonally \\nadjusted months' supply of single-family existing homes has averaged 3.3 months in January –March \\nafter rising to 3.6 months in December 2023. While there has been a measurable improvement in the \\nnumber of active for -sale listings, we believe that high mortgage rates continue to lock many potential \\nsellers into the low -rate mortgages they secured in the past. A return to falling mortgage rates should \\nhelp to unlock inventory and allow for the return of healthier activity in the market for existing homes. \\nChart 15 plots our preferred measure of affordability, our calculation of the ratio between a \\nmortgage payment on a newly bought home and the average wage income per worker. We estimate that \\nthis ratio climbed to 47.2 percent in the fourth \\nquarter of 2023, the highest since 1990, \\nbefore declining to 44.5 in the first quarter of \\n2024. As recent mortgage rate increases bite, \\nwe project the affordability ratio to tick up to \\n45.6 percent in the second quarter before \\ndeclining to 41.8 percent by the end of 2025. \\nThat would bring some relief to prospective\"),\n",
       " Document(metadata={'source': '../data/US_Forecast_May_2024.pdf', 'page': 14, 'id': '../data/US_Forecast_May_2024.pdf:14:0'}, page_content=\"15 \\nhomebuyers, but house pur chases w ill r emain m uch less affor dable than i n the y ears pr ior to the \\npandemic. We estimate that from 2010 through 2019, the mortgage payment on a newly purchased home \\naveraged just over one-quarter of average wage income per worker.1 \\nThe market for newly built homes features more margins for price adjustment than the existing-\\nhomes market. Home builders can adjust lot and house sizes, finishes, appliances, and other features to \\npartially compensate for the spike in mortgage rates. The market for new construction has accordingly \\nheld up better than the market for existing homes recently. The low inventory level in the existing homes \\nmarket has also cushioned the blow from higher mortgage rates to new construction activity. \\nAnnualized sales of new single-family homes increased from 644,000 in the fourth quarter of 2023 \\nto 667,000 in the first quarter of this year, a trend we generally  expect to continue over our forecast \\nperiod. Single-family housing starts climbed to an annualized pace of 1,069,000 in the first quarter of \\n2024, a stark increase from the 834,000 pace from the first quarter of 2023. Months' supply of new single-\\nfamily homes for sale stood at 8.3 in March. That level was down from the recent peak of 10.1 months ' \\nsupply in July 2022, but above the 7.1 months ' supply in July 2023. We believe that a balanced market \\nis likely to feature under 6 months ' worth of supply. The market is working through the supply overhang \\nthat developed in 2022 in fits and starts. We remain cautiously optimistic about the single-family \\nresidential construction market, which should also benefit from the projected decline in mortgage rates  \\nin the second half of 2024. \\nMulti-family housing starts retreated in 2023 after a banner performance in 2022. The 547,000 \\nmulti-family starts in 2022 were the most since 1986. The influx of new product as those starts reached \\ncompletion, higher financing costs, flatlining new tenant market rents, and climbing vacancies put a chill \\non the multi-family construct market. The 299,000-u nit pace in March was the slowest since the depths \\nof the Covid recession, though the level of permits has held up reasonably well and the projected inflow \\nof immigrants should help sustain demand for rentals going forward. \\n1 The mortgage payment is computed assuming no down payment using the contemporaneous average conventional mortgage \\nrate. As a proxy for mortgage size, we index the median home price in 2012 to cumulative house price growth since that time \\nas measured by the Case-Shiller Home Prices Index. The average wage is computed by dividing total wage income by the \\nemployment level in the BLS' household survey.\"),\n",
       " Document(metadata={'source': '../data/US_Forecast_May_2024.pdf', 'page': 15, 'id': '../data/US_Forecast_May_2024.pdf:15:0'}, page_content='16 \\n \\nChart 16 shows the historical and forecast paths of year-over-year and quarterly annualized rates \\nof home price appreciation, as measured by \\nthe seasonally adjusted Case-Shiller Home \\nPrice Index. Based on our internal nowcasting \\nmodel and other incoming data, we have \\npenciled in annualized increases of 5.0 \\npercent in 2024 Q1–Q3. Prices then \\nappreciate by a steady 4.0 percent per year \\nover the remainder of our forecast period. In \\nyear-over-year terms, we are forecasting the \\nindex to rise by 4.8 percent in 2024Q4 and by 4.0 percent in 2025Q4. \\nEnergy Markets \\nOil prices rose by about 15 dollars per barrel between early January 2024 and early April, largely \\ndriven by growing tensions in the Middle East and another extension of supply cuts by  the Organization \\nfor Petroleum Exporting Countries and its allies (OPEC+). The most recent extension runs through June \\n2024. The price of West Texas Intermediate (WTI) crude oil topped 87 dollars per barrel on April 5 in the \\nimmediate aftermath of Israeli strikes on the Iranian embassy in Syria. Fortunately, further escalation has \\nturned out to be limited,  and oil prices have since retreated, with the price of WTI falling to around 80  \\ndollars per barrel. Still, the situation in the region remains volatile.  \\nThe price spread between Brent and WTI crude benchmarks used to be very sensitive to flare-\\nups of tensions in the Middle East, but the inclusion of U.S. WTI-Midland crude in the Brent basket a year \\nago appears to have tamed that volatility. The Brent benchmark is set by the cheapest option in the \\nbasket, with ample U.S. supply capable of smoothing the impact of potential disruptions in the flow of oil \\nfrom the Middle East. The spread rose from about 4 dollars per barrel in September 2023 to about 7 \\ndollars in February 2024, but has since retreated to a little over 4 dollars in April despite mutual airstrikes'),\n",
       " Document(metadata={'source': '../data/US_Forecast_May_2024.pdf', 'page': 16, 'id': '../data/US_Forecast_May_2024.pdf:16:0'}, page_content='17 \\n \\nby Israel and Iran. The early -2024 increase likely reflected temporary increases in transportation costs, \\nas world oil flows adjusted to the Red Sea route disruptions. \\nThe OPEC+ group appears likely to extend its supply cuts beyond June, which will leave the \\norganization with about 4 million barrels per day (bpd) of spare capacity, as estimated by the Energy \\nInformation Administration (EIA). As a result, the bulk of incr eased crude production to satisfy growing \\nglobal demand will have to originate elsewhere. The EIA estimates that U.S. production growth will \\ncontinue despite modest levels of exploratory activity, rising by about 0.8 million bpd between 2023 and \\n2025 and accounting for around 40 percent of the global increase. The ample spare capacity of OPEC+ \\nis likely to limit the risk of prolonged global oil supply disruptions originating outside the Persian Gulf, \\nunderlying our benign WTI price forecast.  \\nNatural gas inventory stocks were elevated even before the 2023– 24 heating season. The \\nrelatively mild winter has pushed natural gas stocks far above their recent normal, severely depressing \\nspot and near-term futures prices for natural gas. The Henry Hub spot benchmark  dipped below 2.0 \\ndollars per million British thermal units (MMBTu) in early February, and averaged just 1.5 dollars in March, \\nthe lowest monthly reading since July 1995. In April and early May, spot prices recovered some ground \\nbut remained below 2.0 doll ars. In our modeling, we use the Producer Price Index (PPI) for natural gas \\nfuels, which aligns better with the price of the one-month ahead futures contract. The index declined \\nsignificantly as well, but not as far as the spot price.  \\nThese low prices have likely set back production and drilling plans. Domestic production of natural \\ngas has increased from 108 billion cubic feet per day (bcfpd) in 2022 to 113.1 bcfpd in 2023. The EIA \\nnow projects that domestic natural gas production will dip by 0.7 bcfpd in 2024 before resuming growth \\nin 2025 as domestic storage stocks move closer to normal levels. More normal future heating seasons \\nand upward pressure on domestic prices from rapidly growing liquefied natural gas (LNG) exports \\nunderlie our projection for natural gas prices trending toward the 3.0 dollar per MMBTu level over our'),\n",
       " Document(metadata={'source': '../data/US_Forecast_May_2024.pdf', 'page': 17, 'id': '../data/US_Forecast_May_2024.pdf:17:0'}, page_content='18 \\n \\nforecast. U.S. LNG export capacity has doubled in recent years and is projected almost to double again \\nby 2028 due to the approved projects already \\nunder construction.  \\nChart 17 shows our forecast for Brent \\nand WTI crude prices in maize and blue as \\nwell as the PPI for natural gas fuels in green. \\nWe expect the price of WTI to stay around 80 \\ndollars throughout the forecast, falling in real \\nterms. Likewise, the Brent– WTI spread is \\nprojected to remain stable, at the 4–5 dollars per barrel range. The natural gas PPI rises throughout the \\nforecast, reflecting the growing pressure on domestic prices as U.S. LNG exports to the rest of the world \\ncontinue to ramp up.'),\n",
       " Document(metadata={'source': '../data/US_Forecast_May_2024.pdf', 'page': 18, 'id': '../data/US_Forecast_May_2024.pdf:18:0'}, page_content='19 \\n \\nThe Forecast for 2024–2025 \\n \\nLooking past the volatile growth contributions of inventories and net exports, broader economic \\nmomentum has remained very solid so far in 2024. The immigration wave that began in 2021 –22 has \\nlikely helped to fuel the brisk economic growth by adding to both the demand and the supply sides of the \\neconomy. The wave is showing few signs of abating yet. Unfortunately, it will likely take a while for Census \\nand BLS population estimates to accurately reflect this wave. As a result, we expect solid growth of the \\nlabor force over the forecast horizon, far in excess of what one would estimate based on population \\nprojections that do not take recent immigration into account. Factoring in the larger pool of labor, CBO \\nhas recently upgraded its estimate of potential real GDP growth to about 2.5 percent for 2024–26. Recent \\nnews on inflation, however, has not been favorable. Inflation has re-accelerated. Even with the April CPI \\nreport showing some improvement after three hot prints, the Fed will want to see significant further \\nslowing. As a result, projections for the first fed funds rate cut have moved further into the future. Although \\nthe labor market continues to soften, it appears to remain on the tighter side of \"full employment,\" implying \\nthat the Fed still has space to let tight monetary policy do its job. We suspect a period of below-potential \\ngrowth will ultimately be necessary to tame inflation, and we expect it to begin in 2024H2. As monetary \\npolicy eases, we expect growth to rebound toward potential by the end of 2025. \\n \\n \\n• We project that real GDP growth will rebound to a 2.5 \\npercent annualized pace in 2024Q2, as brisk growth of \\ndomestic final sales continues and the drag from net \\nexports and inventory investment normalizes. \\n• We expect the growth pace to decelerate slightly to \\naverage about 2.0 percent over 2024Q3–25Q1, as the \\nlabor market normalizes, consumption growth \\nmoderates, and residential investment stalls out. \\n• As inflation slows and the effects of the projected policy \\nrate cuts feed through the economy, real GDP growth \\nre-accelerates to average 2.4 percent at an annualized \\nrate by 2025H2. \\n• Calendar-year GDP growth registers 2.6 percent in \\n2024 and moderates to 2.1 percent in 2025. \\n \\n \\n• Led by consumption expenditures, the grow th \\ncontribution of final sales to domestic purchasers \\nremains strong at 2.7 percentage points in 2024Q2 and \\nthen moderates to contribute about 2.3 percentage \\npoints on average to growth over 2024Q3–25Q4. \\n• Solid growth of investment in equipment and \\nintellectual property account s for the growth \\ncontribution of nonresidential fixed investment in the \\nforecast, while investment in structures is a drag on \\ngrowth. \\n• Residential investment begins adding to growth by \\n2024Q4, as the new housing sector adjusts to lower \\nmulti-family starts and the rebound in mortgage rates. \\n• Government consumption expenditures contribute \\nabout 0.2– 0.3 percentage points to growth over the \\nforecast period, largely due to brisk federal defense \\nand state and local spending growth. \\n• The combined  drag of net exports and inventory \\ninvestment on real GDP growth averages about 0.2 \\npercentage points over 2024Q2–25Q4.'),\n",
       " Document(metadata={'source': '../data/US_Forecast_May_2024.pdf', 'page': 19, 'id': '../data/US_Forecast_May_2024.pdf:19:0'}, page_content=\"20 \\n \\n• The labor market has been cooling off despite its \\nwelcome resilience to higher interest rates . The \\nheadline unemployment rate inched up to 3.9 percent \\nin April after averaging 3.7 percent in 2023H2. \\n• Since dropping to 62.5 percent in December 2023, the \\nlabor force participation rate rebounded to 62.7 percent \\nin March and April. Participation stays at 62.7 percent \\nthroughout the forecast window. The flat participation \\nrate reflects the opposing forces of ongoing \\nretirements of the baby boom generation and incoming \\nimmigrants, more of whom will enter the labor force \\nover time. \\n• As rates stay higher for longer, the cumulative effects \\nof previous monetary tightening continue to work their \\nway through the labor market. The unemployment rate \\ncontinues trudging upwards from 3.9 percent in \\n2024Q2 to 4.0 percent in 2024Q4, where it remains \\nthroughout 2025. \\n \\n• Payroll employment gains have slowed slightly in \\n2024. The labor market has averaged 246,000 job \\ngains per month so far in 2024, weaker than the \\n251,000 pace in 2023, but still stronger than 2019' s \\naverage of 166,000. \\n• The slowing trend in job gains continues in the forecast \\nthrough 2025Q1. Several years of a tight labor market \\nare likely to spur faster productivity growth over the \\nnext two years. As a result, job growth in 2025 remains \\nmoderate.  \\n• The economy adds 2. 5 million jobs during 2024 and \\n1.5 million during 2025. \\n• The government sector add s jobs throughout the \\nforecast, albeit at a much slower pace compared to \\n2023, as local government employment tops its pre-\\npandemic count. \\n \\n• All-items CPI inflation came in at a 3.8 percent \\nannualized pace in 2024 Q1, while core CPI inflation \\nregistered a 4.2 percent pace. Housing and other \\nservices continued to be the main drivers of CPI \\ninflation. \\n• After a setback in 2024Q1, w e expect the PCE price \\nindex, the Fed's preferred inflation measure, to resume \\nits decline toward the Fed's 2.0 percent goal over the \\nnext year (with CPI running slightly ahead) , as shelter \\ncosts decelerate and consumer goods inflation stays \\nmuted. The year -over-year change ticks up  from 2. 6 \\npercent in 202 4Q1 to 2.9 percent in 2024Q 4, before \\nslowing to 2.1 percent by the second half of 2025. \\n• The hot 2024Q1 and cool 2023H2 inflation prints imply \\nthat year-over-year core CPI inflation lingers in the 3.4–\\n3.6 percent range over 2024Q2–Q4, before slowing to \\n3.0 percent in 2025Q1 and 2.5 percent by 2025Q4. \\n• Core CPI inflation slightly outpaces the headline \\nthroughout the forecast, as gasoline price increases \\nremain largely subdued and food inflation slows.\"),\n",
       " Document(metadata={'source': '../data/US_Forecast_May_2024.pdf', 'page': 20, 'id': '../data/US_Forecast_May_2024.pdf:20:0'}, page_content='21 \\n \\n• With the 30- year fixed mortgage rate back above 7.0 \\npercent, new single-family home construction flat lines \\nbetween 2024Q2 and 2024Q4, averaging a pace of \\n1,030,000 units. The pace of s ingle-family housing \\nstarts then climbs by 60,000 units through 2025Q4. \\n• Driven by a considerable number of units under \\nconstruction and a moderate increase in rental \\nvacancies, multi-family starts fell by more than 200,000 \\nunits over four quarters to average 350,000 in 2024Q1. \\nMulti-family housing starts are projected to rebound to \\n380,000 units in 2024Q2. We expect multi-family starts \\nto recover to 440,000 units by 2025Q4. \\n• We are generally optimistic on new construction, \\nespecially multi -family housing,  due to the acute \\naffordability crisis in the existing home market and an \\nexpected tightening of the rental market from the \\nongoing immigration wave. \\n• Total housing starts gradually improve from 1,410,000 \\nunits in 2024Q2 to 1,530,000 in 2025Q4 closer to the \\npre-pandemic trend.  \\n \\n• Real investment in equipment grew by 1.0 percent year \\nover year in 2024Q1, driven by the recovery in \\ninformation processing equipment investment af ter its \\ndip in 2023Q3.  We expect the year -over-year growth \\nrate of equipment investment to accelerate to 4.6 \\npercent by 2025Q4 as investment in information \\nequipment remains solid and vehicle investment picks \\nup.  \\n• The growth rate of intellectual property i nvestment \\nregistered 3.6 percent year over year in 2024Q1, \\ndriven by software development. By 2025Q4, the year-\\nover-year pace of growth ramps up to 6.2 percent. \\n• In the near term, the construction of microchip factories \\ncontinues to support healthy growth i n investment in \\nnonresidential structures. Year -over-year growth \\nregistered 9.4 percent in 2024Q1. As funds from the \\nCHIPS Act run out, we project a gradual slowdown, \\nresulting in 0.3 and 0.8 percent year -over-year \\ndeclines in 2024Q4 and 2025Q4, respectively. \\n \\n• The annualized pace of light vehicle sales has been \\nstuck around 15. 6 million units for a year. Given \\nexpensive financing, the limited availability of cheaper \\ntrim levels has constrained sales. \\n• Auto loan interest rates appear to have stabilized, while \\nthe CPI for light vehicles has declined in recent months. \\nHence, vehicle purchases are gradually becoming \\nmore affordable relative to incomes. As a result, we \\nproject that the pace of sales will start rising again in \\n2024H2. The sales pace increases to 15.9 million by \\n2024Q4 and reaches 16.2 million by mid-2025. \\n• All of the gains are in the light truck category, which \\nincludes pickups, SUVs, and crossovers. \\n• As consumers go for cheaper vehicle trims, the \\ncontribution of vehicle sales to real GDP will be smaller \\nfor the same number of units sold.'),\n",
       " Document(metadata={'source': '../data/US_Forecast_May_2024.pdf', 'page': 21, 'id': '../data/US_Forecast_May_2024.pdf:21:0'}, page_content=\"22 \\n \\n• To forecast demand for U.S. exports, we construct a \\ntrade-weighted index of real GDP for five of our major \\nexport markets: Canada, Mexico, Japan, the United \\nKingdom, and the euro area. We also track China' s \\neconomy, but show it separately because it grows \\nmore quickly. \\n• After posting similar growth in 2022, the economic \\nfortunes of China and the five economies diverged in \\n2023. While China's economy accelerated, the pace of \\ngrowth slowed in four of the five other economies. The \\neuro area and the United Kingdom experienced two \\nconsecutive quarters of real GDP declines, reeling \\nfrom tighter monetary policy and the impact of the \\nRussia–Ukraine war. \\n• Modest quarterly growth returns to the five-economy \\ncomposite in 2024–25, but calendar -year aggregate \\ngrowth still retreats to 0.8 percent in 2024 before \\naccelerating to 1.5 percent in 2025. \\n• In China, the quarterly growth pace is projected to \\nsettle around 4.5 percent annualized. But strong \\n2023Q4 and 2024Q1 readings, boosted by strong \\nindustrial output, push the 2024 calendar -year growth \\nrate to 5.7 percent. \\n \\n• The current account deficit ballooned between 2020Q1 \\nand 2022Q1, both in absolute terms and relative to \\nGDP, driven by a huge increase in domestic \\nconsumption of imported goods.  \\n• The continuous improvement in the current account \\nthat began in 2022Q1 finally ended in 2024Q1 with a \\njump in imports.  \\n• With respectable domestic and foreign economic \\ngrowth, we project a relatively steady current account \\ndeficit of around 3.1– 3.2 percent of GDP throughout \\nthe forecast period.  \\n• In nominal terms, the current account deficit widens \\nfrom about 900 billion dollars in 2024Q2 –Q3 to 970 \\nbillion in 2025Q4. The deterioration of our trade \\nbalance for goods is responsible for the bulk of the \\ncurrent account dynamics. \\n \\n \\nRisks to the Forecast \\nOur projections are subject to both known and as yet-unknown uncertainties. The more prominent \\nknown risks can be broadly grouped into three categories: noisy or delayed data masking already \\nemerging breaks in recent trends, potential future policy actions we did not consider likely enough to \\ninclude in our baseline, and possible external shocks. \\nThe economy has held up unexpectedly well in the face of monetary policy tightening over the \\npast couple of years, carried by robust growth of consumption expenditures. Some cracks may now be\"),\n",
       " Document(metadata={'source': '../data/US_Forecast_May_2024.pdf', 'page': 22, 'id': '../data/US_Forecast_May_2024.pdf:22:0'}, page_content=\"23 \\n \\nemerging in the façade of the consumer, but assessing their seriousness tends to be possible only \\nretrospectively. Credit card and auto loan delinquencies have been rising for months, growth of revolving \\nconsumer credit appears to be slowing, and sales of new light vehicles seem to be flatlining. Should these \\ntrends continue, the consumption and labor market outlooks could deteriorate significantly. \\nInflation re-accelerated in the first three months of the year and has only eased marginally in April, \\nbut we are expecting it to moderate by the end of 2024. Inflation is notoriously hard to forecast, however, \\nso both upside and downside surprises are quite possible. We would expect any material deviation in \\ninflation from our forecast path to propagate through to monetary policy, interest rates, consumption and \\ninvestment, and labor market outcomes. While we continue to expect rental inflation to moderate, \\nabysmal affordability in the home purchase market may result in some upward pressure on rents, making \\nit more difficult for overall inflation to decline all the way toward the Fed's target. \\nOur outlook for the labor market features a gradual cooldown in growth this year, followed by \\nmoderate but stable job growth in 2025. Yet the demand for labor could cool substantially more quickly \\nthan we have forecast, with rates of unemployment overshooting our medium -run projections. On the \\nother hand, the recent pace of job gains  has likely been boosted by the inflow of fresh immigrants into \\nthe country. These additional workers may have alleviated some supply constraints by filling vacancies \\nthat would not have been filled otherwise and, possibly, restrained wage growth in some industries. Even \\nif the immigration wave stops, the projected increase in labor force participation among the recent \\nimmigrants as they settle in may outpace that of previous immigration waves, relaxing labor supply \\nconstraints by more than we expect.  \\nIn the face of noisy data, FOMC members could end up misreading the state of the economy and \\nalso the effective degree of current policy tightening, which depends on estimates of the neutral policy \\nrate. Estimates of neutral policy rates are inherently noisy, and even more so in the current environment, \\nwhich is fraught with many global economic and political changes. A 2.5 percent neutral rate implies \\nalmost double the degree of policy restriction compared to a 4.0 percent neutral rate. As a result, the \\nFOMC might find it hard to act decisively against newly emergent inflation or labor market trends, leading \\nto policy decisions that turn out to have been a mistake ex post.\"),\n",
       " Document(metadata={'source': '../data/US_Forecast_May_2024.pdf', 'page': 23, 'id': '../data/US_Forecast_May_2024.pdf:23:0'}, page_content='24 \\n \\nWe continue to believe that the most likely outcome of the November 2024 elections is that the \\nUnited States will feature divided government in one form or another. We therefore expect the status quo \\nto persist in fiscal policy. Of course, if the November elections produce a single-party government, the \\nfiscal trajectory could be very different than we have projected. C ontrol of the executive branch come \\n2025 will also have considerable implications on its own. Although a second Trump administration would \\nlikely lead to the imposition of major import tariffs on more countries, we note that the Biden administration \\nhas also not shied away from tariffs.  We therefore see the uncertainty emanating from the elections as \\npertaining more to the conduct of fiscal and monetary policy and the future course of the ongoing wave \\nof immigration.  \\nWith two active wars, the recent exchange of air strikes between Israel and Iran, and abundant \\nongoing policy debates linked to these events, geopolitical risks to our outlook are perhaps the most \\nnumerous. The war in Ukraine could plausibly escalate into a broader regional conflict, but it could also \\nend soon via negotiations, at least for the time being. Chances of a broader conflict in the Middle East \\nthat involves Iran and shuts down the bulk of oil exports from the Persian Gulf also appear to be on the \\nrise. But the easing of tensions that would facilitate reopening of the Red Sea trade routes also remains \\nplausible.  \\nRussia and Iran have been successfully evading Western sanctions on their energy exports with \\nthe help of third countries. Likely beneficiaries include China, India, and the United Arab Emirates among \\nothers. This evasion has helped to keep crude oil prices moderate. The United States has threatened to \\napply and enforce secondary sanctions on entities helping Russia and Iran to avoid sanctions, but so far \\nit has not done so, whether from lack of ability or lack of desire. Should the economic tensions between \\nthe United States and China escalate further, however, such enforced secondary sanctions on Chinese \\nentities could disrupt the global energy market, at least temporarily. \\nTaking a broader view, if geopolitical tensions and the ongoing wars escalate further, significantly \\nhigher military spending, disrupted supply chains, renewed inflation pressures, and further immigration \\nwaves will be the likely outcomes with the largest economic implications. A broad geopolitical de-'),\n",
       " Document(metadata={'source': '../data/US_Forecast_May_2024.pdf', 'page': 24, 'id': '../data/US_Forecast_May_2024.pdf:24:0'}, page_content='25 \\n \\nescalation, however, is probably less of an upside risk, as the already -damaged relationships are likely \\nto take time to rebuild. \\nWe consider the balance of risks to the outlook to be somewhat tilted to the downside, since we \\nbelieve that the Federal Reserve should be able to offset many of the potential negative shocks we have \\ndescribed, except for those with a stagflationary impact.')]"
      ]
     },
     "execution_count": 5,
     "metadata": {},
     "output_type": "execute_result"
    }
   ],
   "source": [
    "from pdfImportService import pdf_content_into_documents, format_docs\n",
    "\n",
    "pdf_content_into_documents(\"../data/US_Forecast_May_2023.pdf\", CHROMA_PATH+\"_2023\")\n",
    "\n",
    "\n",
    "pdf_content_into_documents(\"../data/US_Forecast_May_2024.pdf\", CHROMA_PATH+\"_2024\")"
   ]
  },
  {
   "cell_type": "markdown",
   "metadata": {},
   "source": [
    "## Logical Routing\n",
    "#### Logical Routing uses explicit rules or classification models to direct queries into different paths.\n",
    "#### For example, it can categorize queries to route them to different databases, knowledge bases, or APIs.\n",
    "\n",
    "### Suitable for:\n",
    "#### Structured questions\n",
    "#### Scenarios with clearly defined data sources\n",
    "\n",
    "![Logic Routing](../resources/RAG/3_RAG_Routing_Sematic.png)"
   ]
  },
  {
   "cell_type": "code",
   "execution_count": 6,
   "metadata": {},
   "outputs": [],
   "source": [
    "import os\n",
    "from dotenv import load_dotenv\n",
    "\n",
    "load_dotenv()\n",
    "\n",
    "DEEPSEEK_API_KEY = os.getenv('DEEPSEEK_API_KEY')"
   ]
  },
  {
   "cell_type": "code",
   "execution_count": 7,
   "metadata": {},
   "outputs": [],
   "source": [
    "from langchain.prompts import ChatPromptTemplate\n",
    "from langchain_core.output_parsers import StrOutputParser\n",
    "from langchain_deepseek import ChatDeepSeek\n",
    "\n",
    "# Initialize Deepseek LLM\n",
    "\n",
    "llm = ChatDeepSeek(\n",
    "    model=\"deepseek-chat\",\n",
    "    temperature=0.7,\n",
    "    max_tokens=None,\n",
    "    timeout=None,\n",
    "    max_retries=2,\n",
    "    # other params...\n",
    ")"
   ]
  },
  {
   "cell_type": "code",
   "execution_count": 8,
   "metadata": {},
   "outputs": [],
   "source": [
    "from typing import Literal\n",
    "from langchain_core.prompts import ChatPromptTemplate\n",
    "from pydantic import BaseModel, Field\n",
    "from langchain_openai import ChatOpenAI\n",
    "\n",
    "# Data model\n",
    "class RouteQuery(BaseModel):\n",
    "    \"\"\"Route a user query to the most relevant datasource.\"\"\"\n",
    "\n",
    "    datasource: Literal[\"2023\", \"2024\"] = Field(\n",
    "        ...,\n",
    "        description=\"Given a user question choose which datasource would be most relevant for answering their question\",\n",
    "    )\n",
    "\n",
    "# LLM with function call \n",
    "structured_llm = llm.with_structured_output(RouteQuery)\n",
    "\n",
    "# Prompt \n",
    "system = \"\"\"You are an expert at routing a user question to the appropriate data source.\n",
    "\n",
    "Based on the question is referring to, route it to the relevant data source.\"\"\"\n",
    "\n",
    "prompt = ChatPromptTemplate.from_messages(\n",
    "    [\n",
    "        (\"system\", system),\n",
    "        (\"human\", \"{question}\"),\n",
    "    ]\n",
    ")\n",
    "\n",
    "# Define router \n",
    "router = prompt | structured_llm"
   ]
  },
  {
   "cell_type": "code",
   "execution_count": 9,
   "metadata": {},
   "outputs": [
    {
     "data": {
      "text/plain": [
       "RouteQuery(datasource='2023')"
      ]
     },
     "execution_count": 9,
     "metadata": {},
     "output_type": "execute_result"
    }
   ],
   "source": [
    "question = \"\"\" What economic trends are in 2023? \"\"\"\n",
    "\n",
    "\n",
    "router.invoke({\"question\": question})"
   ]
  },
  {
   "cell_type": "code",
   "execution_count": 10,
   "metadata": {},
   "outputs": [],
   "source": [
    "from langchain_core.runnables import RunnableLambda\n",
    "\n",
    "def choose_route(result):\n",
    "    if \"2023\" in result.datasource.lower():\n",
    "        ### Logic here \n",
    "        return CHROMA_PATH+\"_2023\"\n",
    "    elif \"2024\" in result.datasource.lower():\n",
    "        ### Logic here \n",
    "        return CHROMA_PATH+\"_2024\"\n",
    "    else:\n",
    "        ### Logic here \n",
    "        return \"NONE\"\n",
    "    \n",
    "\n",
    "\n"
   ]
  },
  {
   "cell_type": "code",
   "execution_count": 13,
   "metadata": {},
   "outputs": [],
   "source": [
    "def retrieve_with_queries(db_path):\n",
    "\n",
    "    print(\"db_path\", db_path)\n",
    "   \n",
    "    retriever = dbUtils.get_chroma(db_path).as_retriever(search_kwargs={\"k\": 5})\n",
    "    return retriever"
   ]
  },
  {
   "cell_type": "code",
   "execution_count": 14,
   "metadata": {},
   "outputs": [
    {
     "name": "stdout",
     "output_type": "stream",
     "text": [
      "db_path chroma_rag3_2023\n"
     ]
    },
    {
     "data": {
      "text/plain": [
       "[Document(metadata={'id': '../data/US_Forecast_May_2023.pdf:18:1', 'page': 18, 'source': '../data/US_Forecast_May_2023.pdf'}, page_content='• We project consumption growth to stall in 2023H2 and \\n2024H1, driven by tightening credit, high interest rates, \\nand a gradual return to pre-pandemic patterns of \\nconsumption.  \\n• As the economy goes through a soft patch, we expect \\nlimited investment contribution to growth. By 2024H2, \\nwith the Fed easing policy, investment rebounds to \\nadd about 1.0 percentage point to GDP growth.'),\n",
       " Document(metadata={'id': '../data/US_Forecast_May_2023.pdf:11:0', 'page': 11, 'source': '../data/US_Forecast_May_2023.pdf'}, page_content=\"12 \\nbeen introduced yet. T he new rules of the House of Representatives under Speaker McCarthy's \\nleadership preclude packages of spending bills  coming up for a vote at once, necessitating separate \\nHouse votes on all twelve appropriation bills. The White House released its fiscal 2024 budget proposal \\nin March. It features many policies contained in the original derailed Biden reconciliation deal that did not \\nmake it to the Inflation Reduction Act of 2022, such as an increase in the corporate tax rate to 28 percent \\nand the expanded child tax credit. We judge the c hances that any of these  proposed policies become \\nlaw to be slim. \\nIt is also worth highlighting that the pace of sales of oil from (or, in the future, purchases for) the \\nStrategic Petroleum Reserve (SPR) has a non-trivial impact on federal government consumption. Over \\nthe past two quarters , slower oil sales added 0.2 percentage points to the federal government's \\ncontribution to real GDP growth. If and when the SPR is eventually refilled, it would also constitute a \\nboost to government spending.  \\nThe Covid-era moratorium on student loan payments  is currently scheduled to expire 60 days \\neither after the resolution of the student loan legal challenge or June 30, 2023, whichever comes sooner. \\nAs a result, unless the moratorium is extended again millions of borrowers will likely have to resume \\ninterest payments  sometime in August. A resumption of student loan payments would reduc e these \\nborrowers' disposable incomes by hundreds of dollars  per month on average —a headwind for \\nconsumption growth. \\nThe 100 percent bonus depreciation  enacted by the Tax Cuts and Jobs Act of 2017, a popular \\nbusiness incentive, has been reduced to 80 percent for 2023. It is scheduled to decline in 20 percentage \\npoint steps each year until 2027. The expiration of many important 2017 tax law provisions is already on \\nthe horizon. For instance, the personal tax rate cuts of 2018 are scheduled to be reversed in 2025. It is \\nlikely that these policie s will take center stage in future federal budget  fights, which will likely be as \\ncontentious as the current debt ceiling episode.\"),\n",
       " Document(metadata={'id': '../data/US_Forecast_May_2023.pdf:19:0', 'page': 19, 'source': '../data/US_Forecast_May_2023.pdf'}, page_content=\"20 \\n• The labor market remains tight despite the Fed’s recent \\nrapid monetary tightening. The unemployment rate has \\nranged between 3.4 percent and 3.7 percent for the \\npast year, registering 3.4 percent in April 2023. \\n• After flatlining throughout most of 2022, labor force \\nparticipation is trudging upwards, rising from  62.2 \\npercent in November 2022 to 62.6 percent in April \\n2023. The participation rate is inching closer to the \\n2014–19 average of 62.9 percent. \\n• The labor force participation rate remains constant at \\nthe current 62.6 percent in our forecast until a slight dip \\nto 62.5 percent by the end of 2024 due to labor market \\nsoftening. The lack of a further rebound reflects the \\nlimited number of people remaining to coax back into \\nthe labor force post-pandemic.  \\n• Tighter monetary conditions start to take a toll on the \\nlabor market later this year. The unemployment rate \\ngradually rises from 3.5 percent in 2023Q2 to 3.7 \\npercent in 2023Q4, reaching as high as 4.1 percent in \\nmid-2024. \\n \\n• Payroll employment gains continue a mostly downward \\ntrend but remain strong in the face of c limbing interest \\nrates. Payroll employment has added an average \\n285,000 jobs per month in 2023, below the 2022 \\naverage of 399,000. \\n• Despite the rapid decline in housing starts , \\nemployment in the construction sector has held up well \\nso far  in 2023  due to a backlog of projects started \\nearlier. So far, employment in financial services has  \\nalso withstood the stress experienced in the banking \\nsector. \\n• The downward trend in job gains continues in the \\nforecast, slipping into job losses by 2023Q4. The \\neconomy sheds 522,000 jobs between 2023Q4 and \\n2024Q3 before adding 90,000 jobs in 2024Q4.  \\n• The government sector keeps adding jobs through \\n2024, finally reaching its pre-pandemic employment \\nlevel by 2024Q4. \\n \\n• All-items CPI inflation came in at a 3.8 percent \\nannualized monthly pace in 2023Q1, while core \\ninflation registered a 5.0 percent pace. Food and \\nenergy price inflation, which ran high in 2022, has  \\nslowed significantly in the first few months this year. \\nShelter and other non-energy services inflation remain \\nelevated, with the former  showing signs of slowing in \\n2023. \\n• We project significant progress on inflation over the \\nnext year as consumers pull back due to higher interest \\nrates and the rental market cools. \\n• Core CPI inflation registers 5.2 percent year-over-year \\ngrowth in 2023Q2, 4.1 percent in 2023Q4, and 2.7 \\npercent in 2024Q4. Core  CPI inflation is expected to \\nstay above all -items inflation throughout the forecast, \\nwith food and energy price growth lagging behind.  \\n• The year -over-year change in the PCE deflator, the \\nFed's target measure, falls from 3.9 percent in 2023Q2 \\nto 2.3 percent in 2024Q4.\"),\n",
       " Document(metadata={'id': '../data/US_Forecast_May_2023.pdf:12:0', 'page': 12, 'source': '../data/US_Forecast_May_2023.pdf'}, page_content='13 \\nTable 1 contains fiscal year data and projections for the federal budget on a National Income and \\nProduct Accounts (NIPA) basis from 2021  to \\n2024. In fiscal 2022, current expenditures fell \\nby 15.6 percent as most pandemic -related \\nspending ended. Several programs such as \\nhealthcare provider relief, SNAP benefits, and \\nthe Medicare payment boost will phase out \\nduring 2023, further shrinking  transfer \\npayments. The Inflation Reduction Act, \\nhowever, extended the pandemic -era \\nexpansion of the Affordable Care Act credits through 2025. \\nFederal consumption expenditures are set to grow, boosted by the 2023 Omnibus, outlays related \\nto the Infrastructure Investment and Jobs Act of 2021, strong growth of defense spending, and the \\neventual refilling of the SPR in the second half of calendar 2023. We project federal subsidies to continue \\nto shrink rapidly toward pre-pandemic levels during fiscal 2023–24. Finally, federal interest expenses \\nalmost double between 2021 and 2024 as new borrowing is met with higher interest rates. In fact, the \\ngrowth of interest payments over 2023– 24 accounts for the bulk of growth in current expenditures \\ncompared to fiscal 2022. \\nThe federal deficit narrowed drastically from 13.0 percent in fiscal 2021 to 4.3  percent in fiscal \\n2022. A n 18.1 percent jump in revenues certainly helped , as outsized capital gains tax collections  \\npropelled federal revenues to 19.6 percent of GDP in fiscal 2022, the highest reading since 2000 and the \\nfourth highest level in the post-WWII period. Predictably, these abnormal capital gains tax revenues have \\ncollapsed early in calendar 2023, owing to the poor financial market performance during 2022. Ongoing \\ninflation, however, will still provide some support to nominal revenues in fiscal 2023–24, making sure that \\nfederal revenues keep edging up despite the economic slowdown we project. A product of modest \\nrevenue growth and rising interest expenses, the federal deficit widens to an average of 5.7 percent of \\nGDP in fiscal 2023– 24. These wide deficits will push the privately held debt-to-GDP ratio higher. W e \\nproject this ratio to increase from about 73.2 percent in 2023Q1 to nearly 80.6 percent in 2024Q4.'),\n",
       " Document(metadata={'id': '../data/US_Forecast_May_2023.pdf:15:0', 'page': 15, 'source': '../data/US_Forecast_May_2023.pdf'}, page_content='16 \\nChart 14 shows the historical and forecast paths of year-over-year and annualized quarterly rates \\nof home price appreciation as measured by the Case-Shiller Home Price Index. Based on an internal \\nnowcasting model, w e have penciled in a slight temporary inc rease of 0.2 percent for national house \\nprices in the first quarter of 2023 (compared to \\nthe 0.9 percent decline recorded in the fourth \\nquarter). We project that prices will fall \\nmodestly in the second and third quarter s. \\nAfter that, a slowdown in overall economic \\nconditions will hold prices from appreciating \\nmeaningfully until the second half of next year. \\nIn year -over-year terms , we are forecasting \\nthe Case-Shiller Home Price  Index to fall by \\n2.6 percent in 2023Q2 and to hold flat in nominal terms from 2022Q4 to 2023Q4. The Index grows by \\nonly 0.7 percent year-over-year in 2024Q4. \\nEnergy Markets \\nEnergy markets have continued to oscillate, albeit with prices markedly down from the highs of  \\n2022. The price for West Texas Intermediate crude oil (WTI) averaged 76 dollars per barrel in 2023Q1, \\nsignificantly lower than the 2022 average of 95 dollars per barrel. The U.S. benchmark oil price has spent \\nmost of 2023 in the 70–80 dollars per barrel range. \\nOil-exporting countries have attempted to sustain higher prices  with announced production cuts. \\nIn February, Russia declared it would reduce crude oil production by 0.5 million barrels per  day (bpd), \\nroughly 5 percent of its total output. In early April, the Organization of Petroleum Exporting Countries and \\nits allies (OPEC+) announced further production cuts of 1.4 million bpd. The International Energy Agency \\n(IEA) expects production from non-OPEC+ countries to grow by 1 million bpd in response, partially but \\nnot fully offsetting the announced cuts.')]"
      ]
     },
     "execution_count": 14,
     "metadata": {},
     "output_type": "execute_result"
    }
   ],
   "source": [
    "full_chain = router | RunnableLambda(choose_route) | retrieve_with_queries \n",
    "\n",
    "full_chain.invoke({\"question\": question})"
   ]
  },
  {
   "cell_type": "markdown",
   "metadata": {},
   "source": [
    "# Semantic Routing\n",
    "Dynamic selection of optimal paths based on vectorized semantic similarity. For example, matching the most suitable prompt or retrieval tool through embedding techniques. Suitable for fuzzy queries or scenarios requiring flexible responses.\""
   ]
  },
  {
   "cell_type": "code",
   "execution_count": 18,
   "metadata": {},
   "outputs": [],
   "source": [
    "from langchain.utils.math import cosine_similarity\n",
    "from langchain_core.output_parsers import StrOutputParser\n",
    "from langchain_core.prompts import PromptTemplate\n",
    "from langchain_core.runnables import RunnableLambda, RunnablePassthrough\n",
    "from langchain_community.embeddings import HuggingFaceBgeEmbeddings\n",
    "\n",
    "# Two prompts\n",
    "physics_template = \"\"\"You are a very smart physics professor. \\\n",
    "You are great at answering questions about physics in a concise and easy to understand manner. \\\n",
    "When you don't know the answer to a question you admit that you don't know.\n",
    "\n",
    "Here is a question:\n",
    "{query}\"\"\"\n",
    "\n",
    "math_template = \"\"\"You are a very good mathematician. You are great at answering math questions. \\\n",
    "You are so good because you are able to break down hard problems into their component parts, \\\n",
    "answer the component parts, and then put them together to answer the broader question.\n",
    "\n",
    "Here is a question:\n",
    "{query}\"\"\"\n",
    "\n",
    "dbUtils = DBUtils()\n",
    "\n",
    "embedding_model = dbUtils.get_embedding_function()\n",
    "# Embed prompts\n",
    "prompt_templates = [physics_template, math_template]\n",
    "prompt_embeddings = embedding_model.embed_documents(prompt_templates)\n",
    "\n",
    "# Route question to prompt \n",
    "def prompt_router(input):\n",
    "    # Embed question\n",
    "    query_embedding = embedding_model.embed_query(input[\"query\"])\n",
    "    # Compute similarity\n",
    "    similarity = cosine_similarity([query_embedding], prompt_embeddings)[0]\n",
    "    most_similar = prompt_templates[similarity.argmax()]\n",
    "    # Chosen prompt \n",
    "    print(\"Using MATH\" if most_similar == math_template else \"Using PHYSICS\")\n",
    "    return PromptTemplate.from_template(most_similar)"
   ]
  },
  {
   "cell_type": "code",
   "execution_count": 19,
   "metadata": {},
   "outputs": [
    {
     "name": "stdout",
     "output_type": "stream",
     "text": [
      "Using PHYSICS\n",
      "A black hole is a region in space where gravity is so strong that nothing—not even light—can escape its pull. This happens because a massive amount of matter is compressed into an extremely small volume, creating a gravitational field so intense that it warps spacetime.\n",
      "\n",
      "Key features of a black hole:\n",
      "1. **Event Horizon**: The boundary around a black hole beyond which nothing can escape. It’s the \"point of no return.\"\n",
      "2. **Singularity**: At the center, matter is crushed into an infinitely dense point.\n",
      "3. **Types**: Black holes can be stellar (formed from collapsing stars), supermassive (found at the centers of galaxies), or intermediate.\n",
      "\n",
      "Black holes are fascinating because they challenge our understanding of physics, especially where quantum mechanics and general relativity intersect. If you have more questions, feel free to ask!\n"
     ]
    }
   ],
   "source": [
    "chain = (\n",
    "    {\"query\": RunnablePassthrough()}\n",
    "    | RunnableLambda(prompt_router)\n",
    "    | llm\n",
    "    | StrOutputParser()\n",
    ")\n",
    "\n",
    "print(chain.invoke(\"What's a black hole\"))"
   ]
  }
 ],
 "metadata": {
  "kernelspec": {
   "display_name": "base",
   "language": "python",
   "name": "python3"
  },
  "language_info": {
   "codemirror_mode": {
    "name": "ipython",
    "version": 3
   },
   "file_extension": ".py",
   "mimetype": "text/x-python",
   "name": "python",
   "nbconvert_exporter": "python",
   "pygments_lexer": "ipython3",
   "version": "3.12.8"
  }
 },
 "nbformat": 4,
 "nbformat_minor": 2
}
